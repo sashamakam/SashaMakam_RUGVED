{
 "cells": [
  {
   "cell_type": "code",
   "execution_count": 114,
   "id": "41696e66",
   "metadata": {},
   "outputs": [],
   "source": [
    "import pandas as pd"
   ]
  },
  {
   "cell_type": "code",
   "execution_count": 115,
   "id": "48af1b94",
   "metadata": {},
   "outputs": [],
   "source": [
    "df = pd.read_csv(\"matches.csv\")"
   ]
  },
  {
   "cell_type": "code",
   "execution_count": 116,
   "id": "4afefd41",
   "metadata": {},
   "outputs": [
    {
     "data": {
      "text/html": [
       "<div>\n",
       "<style scoped>\n",
       "    .dataframe tbody tr th:only-of-type {\n",
       "        vertical-align: middle;\n",
       "    }\n",
       "\n",
       "    .dataframe tbody tr th {\n",
       "        vertical-align: top;\n",
       "    }\n",
       "\n",
       "    .dataframe thead th {\n",
       "        text-align: right;\n",
       "    }\n",
       "</style>\n",
       "<table border=\"1\" class=\"dataframe\">\n",
       "  <thead>\n",
       "    <tr style=\"text-align: right;\">\n",
       "      <th></th>\n",
       "      <th>id</th>\n",
       "      <th>season</th>\n",
       "      <th>dl_applied</th>\n",
       "      <th>win_by_runs</th>\n",
       "      <th>win_by_wickets</th>\n",
       "    </tr>\n",
       "  </thead>\n",
       "  <tbody>\n",
       "    <tr>\n",
       "      <th>count</th>\n",
       "      <td>756.000000</td>\n",
       "      <td>756.000000</td>\n",
       "      <td>756.000000</td>\n",
       "      <td>756.000000</td>\n",
       "      <td>756.000000</td>\n",
       "    </tr>\n",
       "    <tr>\n",
       "      <th>mean</th>\n",
       "      <td>1792.178571</td>\n",
       "      <td>2013.444444</td>\n",
       "      <td>0.025132</td>\n",
       "      <td>13.283069</td>\n",
       "      <td>3.350529</td>\n",
       "    </tr>\n",
       "    <tr>\n",
       "      <th>std</th>\n",
       "      <td>3464.478148</td>\n",
       "      <td>3.366895</td>\n",
       "      <td>0.156630</td>\n",
       "      <td>23.471144</td>\n",
       "      <td>3.387963</td>\n",
       "    </tr>\n",
       "    <tr>\n",
       "      <th>min</th>\n",
       "      <td>1.000000</td>\n",
       "      <td>2008.000000</td>\n",
       "      <td>0.000000</td>\n",
       "      <td>0.000000</td>\n",
       "      <td>0.000000</td>\n",
       "    </tr>\n",
       "    <tr>\n",
       "      <th>25%</th>\n",
       "      <td>189.750000</td>\n",
       "      <td>2011.000000</td>\n",
       "      <td>0.000000</td>\n",
       "      <td>0.000000</td>\n",
       "      <td>0.000000</td>\n",
       "    </tr>\n",
       "    <tr>\n",
       "      <th>50%</th>\n",
       "      <td>378.500000</td>\n",
       "      <td>2013.000000</td>\n",
       "      <td>0.000000</td>\n",
       "      <td>0.000000</td>\n",
       "      <td>4.000000</td>\n",
       "    </tr>\n",
       "    <tr>\n",
       "      <th>75%</th>\n",
       "      <td>567.250000</td>\n",
       "      <td>2016.000000</td>\n",
       "      <td>0.000000</td>\n",
       "      <td>19.000000</td>\n",
       "      <td>6.000000</td>\n",
       "    </tr>\n",
       "    <tr>\n",
       "      <th>max</th>\n",
       "      <td>11415.000000</td>\n",
       "      <td>2019.000000</td>\n",
       "      <td>1.000000</td>\n",
       "      <td>146.000000</td>\n",
       "      <td>10.000000</td>\n",
       "    </tr>\n",
       "  </tbody>\n",
       "</table>\n",
       "</div>"
      ],
      "text/plain": [
       "                 id       season  dl_applied  win_by_runs  win_by_wickets\n",
       "count    756.000000   756.000000  756.000000   756.000000      756.000000\n",
       "mean    1792.178571  2013.444444    0.025132    13.283069        3.350529\n",
       "std     3464.478148     3.366895    0.156630    23.471144        3.387963\n",
       "min        1.000000  2008.000000    0.000000     0.000000        0.000000\n",
       "25%      189.750000  2011.000000    0.000000     0.000000        0.000000\n",
       "50%      378.500000  2013.000000    0.000000     0.000000        4.000000\n",
       "75%      567.250000  2016.000000    0.000000    19.000000        6.000000\n",
       "max    11415.000000  2019.000000    1.000000   146.000000       10.000000"
      ]
     },
     "execution_count": 116,
     "metadata": {},
     "output_type": "execute_result"
    }
   ],
   "source": [
    "df.describe()"
   ]
  },
  {
   "cell_type": "code",
   "execution_count": null,
   "id": "4e856ecc",
   "metadata": {},
   "outputs": [
    {
     "data": {
      "text/plain": [
       "np.int64(58)"
      ]
     },
     "execution_count": 117,
     "metadata": {},
     "output_type": "execute_result"
    }
   ],
   "source": [
    "#1)Count the total number of matches conducted in 2008.\n",
    "df[df['season']==2008]['id'].count()"
   ]
  },
  {
   "cell_type": "code",
   "execution_count": null,
   "id": "4a682820",
   "metadata": {},
   "outputs": [
    {
     "name": "stdout",
     "output_type": "stream",
     "text": [
      "the city with maximum number of matches is : Mumbai and the count is: 101\n",
      "the city with minimum number of matches is : Bloemfontein and the count is: 2\n"
     ]
    }
   ],
   "source": [
    "#2)Find the cities where the maximum and minimum number of matches were\n",
    "conducted.\n",
    "city_counts= df['city'].value_counts()\n",
    "city=city_counts.idxmax()\n",
    "countnumber=city_counts.max()\n",
    "print('the city with maximum number of matches is :', city, 'and the count is:', countnumber)\n",
    "citys=city_counts.idxmin()\n",
    "countnumbers=city_counts.min()\n",
    "print('the city with minimum number of matches is :', citys, 'and the count is:', countnumbers)\n",
    "\n"
   ]
  },
  {
   "cell_type": "code",
   "execution_count": null,
   "id": "be4ce7d4",
   "metadata": {},
   "outputs": [
    {
     "data": {
      "text/plain": [
       "city\n",
       "Mumbai            101\n",
       "Kolkata            77\n",
       "Delhi              74\n",
       "Bangalore          66\n",
       "Hyderabad          64\n",
       "Chennai            57\n",
       "Jaipur             47\n",
       "Chandigarh         46\n",
       "Pune               38\n",
       "Durban             15\n",
       "Bengaluru          14\n",
       "Visakhapatnam      13\n",
       "Centurion          12\n",
       "Ahmedabad          12\n",
       "Rajkot             10\n",
       "Mohali             10\n",
       "Indore              9\n",
       "Dharamsala          9\n",
       "Johannesburg        8\n",
       "Cuttack             7\n",
       "Ranchi              7\n",
       "Port Elizabeth      7\n",
       "Cape Town           7\n",
       "Abu Dhabi           7\n",
       "Sharjah             6\n",
       "Raipur              6\n",
       "Kochi               5\n",
       "Kanpur              4\n",
       "Nagpur              3\n",
       "Kimberley           3\n",
       "East London         3\n",
       "Bloemfontein        2\n",
       "Name: count, dtype: int64"
      ]
     },
     "execution_count": 73,
     "metadata": {},
     "output_type": "execute_result"
    }
   ],
   "source": [
    "#3)Find total count of matches city-wise.\n",
    "city_counts"
   ]
  },
  {
   "cell_type": "code",
   "execution_count": null,
   "id": "56f63bd5",
   "metadata": {},
   "outputs": [
    {
     "data": {
      "text/html": [
       "<div>\n",
       "<style scoped>\n",
       "    .dataframe tbody tr th:only-of-type {\n",
       "        vertical-align: middle;\n",
       "    }\n",
       "\n",
       "    .dataframe tbody tr th {\n",
       "        vertical-align: top;\n",
       "    }\n",
       "\n",
       "    .dataframe thead th {\n",
       "        text-align: right;\n",
       "    }\n",
       "</style>\n",
       "<table border=\"1\" class=\"dataframe\">\n",
       "  <thead>\n",
       "    <tr style=\"text-align: right;\">\n",
       "      <th>toss_decision</th>\n",
       "      <th>bat</th>\n",
       "      <th>field</th>\n",
       "    </tr>\n",
       "    <tr>\n",
       "      <th>toss_winner</th>\n",
       "      <th></th>\n",
       "      <th></th>\n",
       "    </tr>\n",
       "  </thead>\n",
       "  <tbody>\n",
       "    <tr>\n",
       "      <th>Chennai Super Kings</th>\n",
       "      <td>48</td>\n",
       "      <td>41</td>\n",
       "    </tr>\n",
       "    <tr>\n",
       "      <th>Deccan Chargers</th>\n",
       "      <td>24</td>\n",
       "      <td>19</td>\n",
       "    </tr>\n",
       "    <tr>\n",
       "      <th>Delhi Capitals</th>\n",
       "      <td>2</td>\n",
       "      <td>8</td>\n",
       "    </tr>\n",
       "    <tr>\n",
       "      <th>Delhi Daredevils</th>\n",
       "      <td>29</td>\n",
       "      <td>51</td>\n",
       "    </tr>\n",
       "    <tr>\n",
       "      <th>Gujarat Lions</th>\n",
       "      <td>1</td>\n",
       "      <td>14</td>\n",
       "    </tr>\n",
       "    <tr>\n",
       "      <th>Kings XI Punjab</th>\n",
       "      <td>26</td>\n",
       "      <td>55</td>\n",
       "    </tr>\n",
       "    <tr>\n",
       "      <th>Kochi Tuskers Kerala</th>\n",
       "      <td>3</td>\n",
       "      <td>5</td>\n",
       "    </tr>\n",
       "    <tr>\n",
       "      <th>Kolkata Knight Riders</th>\n",
       "      <td>30</td>\n",
       "      <td>62</td>\n",
       "    </tr>\n",
       "    <tr>\n",
       "      <th>Mumbai Indians</th>\n",
       "      <td>44</td>\n",
       "      <td>54</td>\n",
       "    </tr>\n",
       "    <tr>\n",
       "      <th>Pune Warriors</th>\n",
       "      <td>11</td>\n",
       "      <td>9</td>\n",
       "    </tr>\n",
       "    <tr>\n",
       "      <th>Rajasthan Royals</th>\n",
       "      <td>32</td>\n",
       "      <td>48</td>\n",
       "    </tr>\n",
       "    <tr>\n",
       "      <th>Rising Pune Supergiant</th>\n",
       "      <td>0</td>\n",
       "      <td>6</td>\n",
       "    </tr>\n",
       "    <tr>\n",
       "      <th>Rising Pune Supergiants</th>\n",
       "      <td>3</td>\n",
       "      <td>4</td>\n",
       "    </tr>\n",
       "    <tr>\n",
       "      <th>Royal Challengers Bangalore</th>\n",
       "      <td>20</td>\n",
       "      <td>61</td>\n",
       "    </tr>\n",
       "    <tr>\n",
       "      <th>Sunrisers Hyderabad</th>\n",
       "      <td>20</td>\n",
       "      <td>26</td>\n",
       "    </tr>\n",
       "  </tbody>\n",
       "</table>\n",
       "</div>"
      ],
      "text/plain": [
       "toss_decision                bat  field\n",
       "toss_winner                            \n",
       "Chennai Super Kings           48     41\n",
       "Deccan Chargers               24     19\n",
       "Delhi Capitals                 2      8\n",
       "Delhi Daredevils              29     51\n",
       "Gujarat Lions                  1     14\n",
       "Kings XI Punjab               26     55\n",
       "Kochi Tuskers Kerala           3      5\n",
       "Kolkata Knight Riders         30     62\n",
       "Mumbai Indians                44     54\n",
       "Pune Warriors                 11      9\n",
       "Rajasthan Royals              32     48\n",
       "Rising Pune Supergiant         0      6\n",
       "Rising Pune Supergiants        3      4\n",
       "Royal Challengers Bangalore   20     61\n",
       "Sunrisers Hyderabad           20     26"
      ]
     },
     "execution_count": 56,
     "metadata": {},
     "output_type": "execute_result"
    }
   ],
   "source": [
    "#4)Tally the toss decisions each team has taken.\n",
    "df.groupby(['toss_winner','toss_decision']).size().unstack(fill_value=0)\n",
    "\n"
   ]
  },
  {
   "cell_type": "code",
   "execution_count": null,
   "id": "7511d21c",
   "metadata": {},
   "outputs": [
    {
     "data": {
      "text/plain": [
       "result\n",
       "normal       743\n",
       "tie            9\n",
       "no result      4\n",
       "Name: count, dtype: int64"
      ]
     },
     "execution_count": 53,
     "metadata": {},
     "output_type": "execute_result"
    }
   ],
   "source": [
    "#5)Count the total number of normal and tied matches.\n",
    "result_count=df['result'].value_counts()\n",
    "result_count"
   ]
  },
  {
   "cell_type": "code",
   "execution_count": null,
   "id": "0a5d9bd7",
   "metadata": {},
   "outputs": [
    {
     "data": {
      "text/html": [
       "<div>\n",
       "<style scoped>\n",
       "    .dataframe tbody tr th:only-of-type {\n",
       "        vertical-align: middle;\n",
       "    }\n",
       "\n",
       "    .dataframe tbody tr th {\n",
       "        vertical-align: top;\n",
       "    }\n",
       "\n",
       "    .dataframe thead th {\n",
       "        text-align: right;\n",
       "    }\n",
       "</style>\n",
       "<table border=\"1\" class=\"dataframe\">\n",
       "  <thead>\n",
       "    <tr style=\"text-align: right;\">\n",
       "      <th></th>\n",
       "      <th>team1</th>\n",
       "      <th>team2</th>\n",
       "    </tr>\n",
       "  </thead>\n",
       "  <tbody>\n",
       "    <tr>\n",
       "      <th>33</th>\n",
       "      <td>Gujarat Lions</td>\n",
       "      <td>Mumbai Indians</td>\n",
       "    </tr>\n",
       "    <tr>\n",
       "      <th>125</th>\n",
       "      <td>Rajasthan Royals</td>\n",
       "      <td>Kolkata Knight Riders</td>\n",
       "    </tr>\n",
       "    <tr>\n",
       "      <th>189</th>\n",
       "      <td>Kings XI Punjab</td>\n",
       "      <td>Chennai Super Kings</td>\n",
       "    </tr>\n",
       "    <tr>\n",
       "      <th>387</th>\n",
       "      <td>Royal Challengers Bangalore</td>\n",
       "      <td>Sunrisers Hyderabad</td>\n",
       "    </tr>\n",
       "    <tr>\n",
       "      <th>400</th>\n",
       "      <td>Delhi Daredevils</td>\n",
       "      <td>Royal Challengers Bangalore</td>\n",
       "    </tr>\n",
       "    <tr>\n",
       "      <th>475</th>\n",
       "      <td>Rajasthan Royals</td>\n",
       "      <td>Kolkata Knight Riders</td>\n",
       "    </tr>\n",
       "    <tr>\n",
       "      <th>535</th>\n",
       "      <td>Rajasthan Royals</td>\n",
       "      <td>Kings XI Punjab</td>\n",
       "    </tr>\n",
       "    <tr>\n",
       "      <th>705</th>\n",
       "      <td>Kolkata Knight Riders</td>\n",
       "      <td>Delhi Capitals</td>\n",
       "    </tr>\n",
       "    <tr>\n",
       "      <th>746</th>\n",
       "      <td>Mumbai Indians</td>\n",
       "      <td>Sunrisers Hyderabad</td>\n",
       "    </tr>\n",
       "  </tbody>\n",
       "</table>\n",
       "</div>"
      ],
      "text/plain": [
       "                           team1                        team2\n",
       "33                 Gujarat Lions               Mumbai Indians\n",
       "125             Rajasthan Royals        Kolkata Knight Riders\n",
       "189              Kings XI Punjab          Chennai Super Kings\n",
       "387  Royal Challengers Bangalore          Sunrisers Hyderabad\n",
       "400             Delhi Daredevils  Royal Challengers Bangalore\n",
       "475             Rajasthan Royals        Kolkata Knight Riders\n",
       "535             Rajasthan Royals              Kings XI Punjab\n",
       "705        Kolkata Knight Riders               Delhi Capitals\n",
       "746               Mumbai Indians          Sunrisers Hyderabad"
      ]
     },
     "execution_count": 58,
     "metadata": {},
     "output_type": "execute_result"
    }
   ],
   "source": [
    "#6)Find the teams where the result was a tie.\n",
    "df.loc[df['result']=='tie',['team1','team2']]"
   ]
  },
  {
   "cell_type": "code",
   "execution_count": null,
   "id": "a9f05aa2",
   "metadata": {},
   "outputs": [
    {
     "name": "stdout",
     "output_type": "stream",
     "text": [
      "the team which won by the highest number of runs is  ('Kolkata Knight Riders', np.int64(0)) and they won by 56 runs\n",
      "the team which won by the lowest number of runs is  ('Chennai Super Kings', np.int64(1)) and they won by 1 runs\n"
     ]
    }
   ],
   "source": [
    "#7)Find the team which won the match by the highest and lowest number of\n",
    "runs.\n",
    "winner_count = df.groupby(['winner','win_by_runs']).size()\n",
    "maxrunswinner = winner_count.idxmax()\n",
    "runsno=winner_count.max()\n",
    "print('the team which won by the highest number of runs is ',maxrunswinner,'and they won by', runsno, 'runs')\n",
    "winner_counts = df.groupby(['winner','win_by_runs']).size()\n",
    "maxrunswinners = winner_count.idxmin()\n",
    "runsnos=winner_count.min()\n",
    "print('the team which won by the lowest number of runs is ',maxrunswinners,'and they won by', runsnos, 'runs')"
   ]
  },
  {
   "cell_type": "code",
   "execution_count": null,
   "id": "5bc1b00f",
   "metadata": {},
   "outputs": [
    {
     "name": "stdout",
     "output_type": "stream",
     "text": [
      "the mean is 13.283068783068783\n",
      "the median is 0.0\n",
      "the standard deviation is 23.47114399366638\n"
     ]
    }
   ],
   "source": [
    "#8)Calculate mean, median and standard deviation of ‘winby runs'\n",
    "mean =df['win_by_runs'].mean()\n",
    "median = df['win_by_runs'].median()\n",
    "standard_Deviation = df['win_by_runs'].std()\n",
    "print('the mean is',mean)\n",
    "print('the median is',median)\n",
    "print('the standard deviation is',standard_Deviation)\n",
    "\n"
   ]
  },
  {
   "cell_type": "code",
   "execution_count": null,
   "id": "18c734c4",
   "metadata": {},
   "outputs": [
    {
     "name": "stdout",
     "output_type": "stream",
     "text": [
      "the venue where the team won by the highest number of runs is  ('Eden Gardens', np.int64(0)) and the venue where team won the match by the minimim runs is ('Barabati Stadium', np.int64(6))\n"
     ]
    }
   ],
   "source": [
    "#9)Find the venue where the team won by the highest and lowest number of\n",
    "runs.\n",
    "winner1=df.groupby(['venue','win_by_runs']).size()\n",
    "venue1 = winner1.idxmax()\n",
    "venue2=winner1.idxmin()\n",
    "print('the venue where the team won by the highest number of runs is ',venue1,'and the venue where team won the match by the minimim runs is',venue2)\n"
   ]
  },
  {
   "cell_type": "code",
   "execution_count": null,
   "id": "92adfd76",
   "metadata": {},
   "outputs": [
    {
     "data": {
      "text/plain": [
       "player_of_match\n",
       "CH Gayle          21\n",
       "AB de Villiers    20\n",
       "RG Sharma         17\n",
       "MS Dhoni          17\n",
       "DA Warner         17\n",
       "                  ..\n",
       "SK Warne           4\n",
       "CA Lynn            4\n",
       "SS Iyer            4\n",
       "ML Hayden          4\n",
       "KH Pandya          4\n",
       "Name: count, Length: 65, dtype: int64"
      ]
     },
     "execution_count": 119,
     "metadata": {},
     "output_type": "execute_result"
    }
   ],
   "source": [
    "#10)Find the players who have won ‘Player of the Match’ more than 3 times.\n",
    "playercount= df['player_of_match'].value_counts()\n",
    "\n",
    "playercount[playercount>3]"
   ]
  },
  {
   "cell_type": "code",
   "execution_count": 133,
   "id": "7a044c1d",
   "metadata": {},
   "outputs": [
    {
     "data": {
      "text/plain": [
       "'S Ravi'"
      ]
     },
     "execution_count": 133,
     "metadata": {},
     "output_type": "execute_result"
    }
   ],
   "source": [
    "#13)Find the umpires who umpired the maximum number of times.\n",
    "umpires1 = df['umpire1'].value_counts()\n",
    "umpires2 = df['umpire2'].value_counts()\n",
    "umpires3 = df['umpire3'].value_counts()\n",
    "umpire_ser = pd.concat([umpires1, umpires2, umpires3]).groupby(level=0).sum()\n",
    "umpire_ser.idxmax()\n",
    "\n"
   ]
  },
  {
   "cell_type": "code",
   "execution_count": 109,
   "id": "cb0c0e69",
   "metadata": {},
   "outputs": [],
   "source": [
    "df1 = pd.read_csv('deliveries.csv')"
   ]
  },
  {
   "cell_type": "code",
   "execution_count": null,
   "id": "cf32f9f2",
   "metadata": {},
   "outputs": [
    {
     "data": {
      "text/html": [
       "<div>\n",
       "<style scoped>\n",
       "    .dataframe tbody tr th:only-of-type {\n",
       "        vertical-align: middle;\n",
       "    }\n",
       "\n",
       "    .dataframe tbody tr th {\n",
       "        vertical-align: top;\n",
       "    }\n",
       "\n",
       "    .dataframe thead th {\n",
       "        text-align: right;\n",
       "    }\n",
       "</style>\n",
       "<table border=\"1\" class=\"dataframe\">\n",
       "  <thead>\n",
       "    <tr style=\"text-align: right;\">\n",
       "      <th></th>\n",
       "      <th>batsman</th>\n",
       "    </tr>\n",
       "  </thead>\n",
       "  <tbody>\n",
       "    <tr>\n",
       "      <th>10</th>\n",
       "      <td>DA Warner</td>\n",
       "    </tr>\n",
       "    <tr>\n",
       "      <th>47</th>\n",
       "      <td>MC Henriques</td>\n",
       "    </tr>\n",
       "    <tr>\n",
       "      <th>75</th>\n",
       "      <td>Yuvraj Singh</td>\n",
       "    </tr>\n",
       "    <tr>\n",
       "      <th>89</th>\n",
       "      <td>Yuvraj Singh</td>\n",
       "    </tr>\n",
       "    <tr>\n",
       "      <th>91</th>\n",
       "      <td>MC Henriques</td>\n",
       "    </tr>\n",
       "    <tr>\n",
       "      <th>...</th>\n",
       "      <td>...</td>\n",
       "    </tr>\n",
       "    <tr>\n",
       "      <th>178987</th>\n",
       "      <td>SR Watson</td>\n",
       "    </tr>\n",
       "    <tr>\n",
       "      <th>179048</th>\n",
       "      <td>DJ Bravo</td>\n",
       "    </tr>\n",
       "    <tr>\n",
       "      <th>179061</th>\n",
       "      <td>SR Watson</td>\n",
       "    </tr>\n",
       "    <tr>\n",
       "      <th>179062</th>\n",
       "      <td>SR Watson</td>\n",
       "    </tr>\n",
       "    <tr>\n",
       "      <th>179063</th>\n",
       "      <td>SR Watson</td>\n",
       "    </tr>\n",
       "  </tbody>\n",
       "</table>\n",
       "<p>8170 rows × 1 columns</p>\n",
       "</div>"
      ],
      "text/plain": [
       "             batsman\n",
       "10         DA Warner\n",
       "47      MC Henriques\n",
       "75      Yuvraj Singh\n",
       "89      Yuvraj Singh\n",
       "91      MC Henriques\n",
       "...              ...\n",
       "178987     SR Watson\n",
       "179048      DJ Bravo\n",
       "179061     SR Watson\n",
       "179062     SR Watson\n",
       "179063     SR Watson\n",
       "\n",
       "[8170 rows x 1 columns]"
      ]
     },
     "execution_count": 121,
     "metadata": {},
     "output_type": "execute_result"
    }
   ],
   "source": [
    "#11)Find all deliveries where the batsman scored a six.\n",
    "df1.loc[df1['batsman_runs']==6,['batsman']]"
   ]
  },
  {
   "cell_type": "code",
   "execution_count": null,
   "id": "4228c514",
   "metadata": {},
   "outputs": [
    {
     "name": "stdout",
     "output_type": "stream",
     "text": [
      "the average runs scored in the matches are  1.313896737734395\n"
     ]
    }
   ],
   "source": [
    "#12)Compute the average runs scored in matches in all the venues.\n",
    "average = df1['total_runs'].mean()\n",
    "print('the average runs scored in the matches are ',average)"
   ]
  },
  {
   "cell_type": "code",
   "execution_count": 134,
   "id": "4d6dcd64",
   "metadata": {},
   "outputs": [
    {
     "data": {
      "text/plain": [
       "season\n",
       "2013    76\n",
       "2012    74\n",
       "2011    73\n",
       "2010    60\n",
       "2014    60\n",
       "2016    60\n",
       "2018    60\n",
       "2019    60\n",
       "2017    59\n",
       "2015    59\n",
       "2008    58\n",
       "2009    57\n",
       "Name: count, dtype: int64"
      ]
     },
     "execution_count": 134,
     "metadata": {},
     "output_type": "execute_result"
    }
   ],
   "source": [
    "#14)Find the total number of matches played in each season.\n",
    "df['season'].value_counts()"
   ]
  },
  {
   "cell_type": "code",
   "execution_count": 136,
   "id": "b70d1ef9",
   "metadata": {},
   "outputs": [
    {
     "data": {
      "text/plain": [
       "season\n",
       "2008    17937\n",
       "2009    16353\n",
       "2010    18883\n",
       "2011    21154\n",
       "2012    22453\n",
       "2013    22602\n",
       "2014    18931\n",
       "2015    18353\n",
       "2016    18862\n",
       "2017    18786\n",
       "2018    20706\n",
       "2019    20270\n",
       "Name: total_runs, dtype: int64"
      ]
     },
     "execution_count": 136,
     "metadata": {},
     "output_type": "execute_result"
    }
   ],
   "source": [
    "#15)Find total runs scored in each season.\n",
    "comb_df_df1 = pd.merge(df1, df, left_on='match_id', right_on='id')\n",
    "\n",
    "comb_df_df1.groupby('season')['total_runs'].sum()"
   ]
  },
  {
   "cell_type": "code",
   "execution_count": 147,
   "id": "15f872d1",
   "metadata": {},
   "outputs": [
    {
     "data": {
      "text/plain": [
       "batsman\n",
       "V Kohli           5434\n",
       "SK Raina          5415\n",
       "RG Sharma         4914\n",
       "DA Warner         4741\n",
       "S Dhawan          4632\n",
       "CH Gayle          4560\n",
       "MS Dhoni          4477\n",
       "RV Uthappa        4446\n",
       "AB de Villiers    4428\n",
       "G Gambhir         4223\n",
       "Name: batsman_runs, dtype: int64"
      ]
     },
     "execution_count": 147,
     "metadata": {},
     "output_type": "execute_result"
    }
   ],
   "source": [
    "#16)Calculate total number of runs scored by each batsman and display top 10.\n",
    "df1.groupby(['batsman'])['batsman_runs'].sum().sort_values(ascending=False).head(10)\n",
    "\n"
   ]
  },
  {
   "cell_type": "code",
   "execution_count": null,
   "id": "a290920b",
   "metadata": {},
   "outputs": [
    {
     "data": {
      "text/plain": [
       "bowler\n",
       "A Ashish Reddy     19\n",
       "A Chandila         11\n",
       "A Choudhary         5\n",
       "A Dananjaya         0\n",
       "A Flintoff          2\n",
       "                 ... \n",
       "YA Abdulla         15\n",
       "YK Pathan          46\n",
       "YS Chahal         102\n",
       "Yuvraj Singh       39\n",
       "Z Khan            119\n",
       "Name: player_dismissed, Length: 405, dtype: int64"
      ]
     },
     "execution_count": 150,
     "metadata": {},
     "output_type": "execute_result"
    }
   ],
   "source": [
    "#17)Compute the total number of wickets taken by each bowler.\n",
    "df1.groupby(['bowler'])['player_dismissed'].count()\n",
    "\n"
   ]
  },
  {
   "cell_type": "code",
   "execution_count": null,
   "id": "1189d143",
   "metadata": {},
   "outputs": [
    {
     "data": {
      "text/plain": [
       "batsman\n",
       "J Bairstow     46.800000\n",
       "DA Warner      37.626984\n",
       "LMP Simmons    37.206897\n",
       "CH Gayle       36.774194\n",
       "SE Marsh       36.072464\n",
       "HM Amla        36.062500\n",
       "KL Rahul       34.706897\n",
       "ML Hayden      34.593750\n",
       "MEK Hussey     34.086207\n",
       "R Parag        33.800000\n",
       "Name: average, dtype: float64"
      ]
     },
     "execution_count": 179,
     "metadata": {},
     "output_type": "execute_result"
    }
   ],
   "source": [
    "#18)Compute batting averages and display top 10.\n",
    "\n",
    "runs=df1.groupby(['batsman'])['batsman_runs'].sum()\n",
    "innings = df1.groupby('batsman')['match_id'].nunique()\n",
    "stats_df = pd.concat([runs, innings], axis=1,join='inner')\n",
    "stats_df['average'] = stats_df['batsman_runs']/stats_df['match_id']\n",
    "stats_df['average'].sort_values(ascending=False).head(10)\n",
    "\n",
    "\n",
    "\n",
    "\n"
   ]
  },
  {
   "cell_type": "code",
   "execution_count": 181,
   "id": "9191ebd1",
   "metadata": {},
   "outputs": [
    {
     "data": {
      "image/png": "[encoded data removed]",
      "text/plain": [
       "<Figure size 640x480 with 1 Axes>"
      ]
     },
     "metadata": {},
     "output_type": "display_data"
    }
   ],
   "source": [
    "#19)Visualize toss decisions across all seasons.\n",
    "import matplotlib.pyplot as plt\n",
    "toss_decisions=df.groupby(['season','toss_decision']).size()\n",
    "toss_decisions.plot(kind='bar')\n",
    "plt.xlabel('season')\n",
    "plt.ylabel('toss decision')\n",
    "plt.title('toss decisions across all seasons')\n",
    "plt.show()"
   ]
  },
  {
   "cell_type": "code",
   "execution_count": null,
   "id": "4f1afbcf",
   "metadata": {},
   "outputs": [],
   "source": [
    "#20)Visualize Total Matches vs Winning Matches vs Win Rate for all teams.\n"
   ]
  },
  {
   "cell_type": "code",
   "execution_count": 184,
   "id": "e0abc3b5",
   "metadata": {},
   "outputs": [
    {
     "data": {
      "image/png": "[encoded data removed]",
      "text/plain": [
       "<Figure size 640x480 with 1 Axes>"
      ]
     },
     "metadata": {},
     "output_type": "display_data"
    }
   ],
   "source": [
    "#21)Find the distribution of the teams who won the matches.\n",
    "winning_teams=df.groupby(['winner']).size()\n",
    "winning_teams.plot(kind='bar')\n",
    "plt.xlabel('teams')\n",
    "plt.ylabel('number of wins')\n",
    "plt.title('distribution of the teams who won the matches')\n",
    "plt.show()"
   ]
  },
  {
   "cell_type": "code",
   "execution_count": 185,
   "id": "21c6c151",
   "metadata": {},
   "outputs": [
    {
     "data": {
      "image/png": "[encoded data removed]",
      "text/plain": [
       "<Figure size 640x480 with 1 Axes>"
      ]
     },
     "metadata": {},
     "output_type": "display_data"
    }
   ],
   "source": [
    "#22)Visualize the toss outcomes of all teams.\n",
    "tossoutcomes=df.groupby(['toss_winner']).size()\n",
    "tossoutcomes.plot(kind='bar')\n",
    "plt.xlabel('teams')\n",
    "plt.ylabel('number of toss wins')\n",
    "plt.title('toss outcomes of teams')\n",
    "plt.show()"
   ]
  },
  {
   "cell_type": "code",
   "execution_count": 190,
   "id": "b92e063d",
   "metadata": {},
   "outputs": [
    {
     "data": {
      "image/png": "[encoded data removed]",
      "text/plain": [
       "<Figure size 640x480 with 1 Axes>"
      ]
     },
     "metadata": {},
     "output_type": "display_data"
    }
   ],
   "source": [
    "#23)Visualize the top 5 teams with the most wins across all seasons.\n",
    "topteams=df['winner'].value_counts()\n",
    "top5teams = topteams.head(5)\n",
    "top5teams.plot(kind='bar')\n",
    "plt.xlabel('teams')\n",
    "plt.ylabel('number of wins')\n",
    "plt.title('top 5 teams')\n",
    "plt.show()\n",
    "\n"
   ]
  }
 ],
 "metadata": {
  "kernelspec": {
   "display_name": "Python 3",
   "language": "python",
   "name": "python3"
  },
  "language_info": {
   "codemirror_mode": {
    "name": "ipython",
    "version": 3
   },
   "file_extension": ".py",
   "mimetype": "text/x-python",
   "name": "python",
   "nbconvert_exporter": "python",
   "pygments_lexer": "ipython3",
   "version": "3.9.6"
  }
 },
 "nbformat": 4,
 "nbformat_minor": 5
}
